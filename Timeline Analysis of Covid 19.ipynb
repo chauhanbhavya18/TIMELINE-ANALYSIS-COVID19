{
 "cells": [
  {
   "cell_type": "markdown",
   "metadata": {},
   "source": [
    "### INTERN: Bhavya Pratap Singh Chauhan\n",
    "\n",
    "**TASK 8 - TIMELINE ANALYSIS:COVID19** :\n",
    "TO SHOW THE SPREAD OF COVID19 IN OUR COUNTRY AS WELL AS IN ANY REGION(ASIA, EUROPE) USING VARIOUS GRAPHS AND CHARTS."
   ]
  },
  {
   "cell_type": "markdown",
   "metadata": {},
   "source": [
    "**Import Important Libraries**"
   ]
  },
  {
   "cell_type": "code",
   "execution_count": 1,
   "metadata": {
    "scrolled": true
   },
   "outputs": [],
   "source": [
    "import pandas as pd\n",
    "import numpy as np\n",
    "import seaborn as sns\n",
    "import matplotlib.pyplot as plt\n",
    "import plotly.express as px"
   ]
  },
  {
   "cell_type": "markdown",
   "metadata": {},
   "source": [
    "**Loading Dataset**"
   ]
  },
  {
   "cell_type": "code",
   "execution_count": 2,
   "metadata": {},
   "outputs": [],
   "source": [
    "df = pd.read_excel (r'C:\\Users\\Computer Junction\\Downloads\\owid-covid-data.xlsx', sheet_name='Sheet1')"
   ]
  },
  {
   "cell_type": "markdown",
   "metadata": {},
   "source": [
    "**Data Preprocessing**"
   ]
  },
  {
   "cell_type": "code",
   "execution_count": 3,
   "metadata": {},
   "outputs": [
    {
     "name": "stdout",
     "output_type": "stream",
     "text": [
      "  iso_code continent     location        date  total_cases  new_cases  \\\n",
      "0      AFG      Asia  Afghanistan  2020-02-24          1.0        1.0   \n",
      "1      AFG      Asia  Afghanistan  2020-02-25          1.0        0.0   \n",
      "2      AFG      Asia  Afghanistan  2020-02-26          1.0        0.0   \n",
      "3      AFG      Asia  Afghanistan  2020-02-27          1.0        0.0   \n",
      "4      AFG      Asia  Afghanistan  2020-02-28          1.0        0.0   \n",
      "5      AFG      Asia  Afghanistan  2020-02-29          1.0        0.0   \n",
      "6      AFG      Asia  Afghanistan  2020-03-01          1.0        0.0   \n",
      "7      AFG      Asia  Afghanistan  2020-03-02          1.0        0.0   \n",
      "8      AFG      Asia  Afghanistan  2020-03-03          2.0        1.0   \n",
      "9      AFG      Asia  Afghanistan  2020-03-04          4.0        2.0   \n",
      "\n",
      "   new_cases_smoothed  total_deaths  new_deaths  new_deaths_smoothed  ...  \\\n",
      "0                 NaN           NaN         NaN                  NaN  ...   \n",
      "1                 NaN           NaN         NaN                  NaN  ...   \n",
      "2                 NaN           NaN         NaN                  NaN  ...   \n",
      "3                 NaN           NaN         NaN                  NaN  ...   \n",
      "4                 NaN           NaN         NaN                  NaN  ...   \n",
      "5               0.143           NaN         NaN                  0.0  ...   \n",
      "6               0.143           NaN         NaN                  0.0  ...   \n",
      "7               0.000           NaN         NaN                  0.0  ...   \n",
      "8               0.143           NaN         NaN                  0.0  ...   \n",
      "9               0.429           NaN         NaN                  0.0  ...   \n",
      "\n",
      "   gdp_per_capita  extreme_poverty  cardiovasc_death_rate  \\\n",
      "0        1803.987              NaN                597.029   \n",
      "1        1803.987              NaN                597.029   \n",
      "2        1803.987              NaN                597.029   \n",
      "3        1803.987              NaN                597.029   \n",
      "4        1803.987              NaN                597.029   \n",
      "5        1803.987              NaN                597.029   \n",
      "6        1803.987              NaN                597.029   \n",
      "7        1803.987              NaN                597.029   \n",
      "8        1803.987              NaN                597.029   \n",
      "9        1803.987              NaN                597.029   \n",
      "\n",
      "   diabetes_prevalence  female_smokers  male_smokers  handwashing_facilities  \\\n",
      "0                 9.59             NaN           NaN                  37.746   \n",
      "1                 9.59             NaN           NaN                  37.746   \n",
      "2                 9.59             NaN           NaN                  37.746   \n",
      "3                 9.59             NaN           NaN                  37.746   \n",
      "4                 9.59             NaN           NaN                  37.746   \n",
      "5                 9.59             NaN           NaN                  37.746   \n",
      "6                 9.59             NaN           NaN                  37.746   \n",
      "7                 9.59             NaN           NaN                  37.746   \n",
      "8                 9.59             NaN           NaN                  37.746   \n",
      "9                 9.59             NaN           NaN                  37.746   \n",
      "\n",
      "   hospital_beds_per_thousand  life_expectancy  human_development_index  \n",
      "0                         0.5            64.83                    0.511  \n",
      "1                         0.5            64.83                    0.511  \n",
      "2                         0.5            64.83                    0.511  \n",
      "3                         0.5            64.83                    0.511  \n",
      "4                         0.5            64.83                    0.511  \n",
      "5                         0.5            64.83                    0.511  \n",
      "6                         0.5            64.83                    0.511  \n",
      "7                         0.5            64.83                    0.511  \n",
      "8                         0.5            64.83                    0.511  \n",
      "9                         0.5            64.83                    0.511  \n",
      "\n",
      "[10 rows x 59 columns]\n"
     ]
    }
   ],
   "source": [
    "#TOP 10 ROWS OF DATASET\n",
    "print(df.head(10))"
   ]
  },
  {
   "cell_type": "code",
   "execution_count": 5,
   "metadata": {},
   "outputs": [
    {
     "name": "stdout",
     "output_type": "stream",
     "text": [
      "<class 'pandas.core.frame.DataFrame'>\n",
      "RangeIndex: 87483 entries, 0 to 87482\n",
      "Data columns (total 59 columns):\n",
      " #   Column                                 Non-Null Count  Dtype  \n",
      "---  ------                                 --------------  -----  \n",
      " 0   iso_code                               87483 non-null  object \n",
      " 1   continent                              83273 non-null  object \n",
      " 2   location                               87483 non-null  object \n",
      " 3   date                                   87483 non-null  object \n",
      " 4   total_cases                            85261 non-null  float64\n",
      " 5   new_cases                              85259 non-null  float64\n",
      " 6   new_cases_smoothed                     84258 non-null  float64\n",
      " 7   total_deaths                           75512 non-null  float64\n",
      " 8   new_deaths                             75670 non-null  float64\n",
      " 9   new_deaths_smoothed                    84258 non-null  float64\n",
      " 10  total_cases_per_million                84801 non-null  float64\n",
      " 11  new_cases_per_million                  84799 non-null  float64\n",
      " 12  new_cases_smoothed_per_million         83803 non-null  float64\n",
      " 13  total_deaths_per_million               75065 non-null  float64\n",
      " 14  new_deaths_per_million                 75223 non-null  float64\n",
      " 15  new_deaths_smoothed_per_million        83803 non-null  float64\n",
      " 16  reproduction_rate                      70762 non-null  float64\n",
      " 17  icu_patients                           8845 non-null   float64\n",
      " 18  icu_patients_per_million               8845 non-null   float64\n",
      " 19  hosp_patients                          11014 non-null  float64\n",
      " 20  hosp_patients_per_million              11014 non-null  float64\n",
      " 21  weekly_icu_admissions                  802 non-null    float64\n",
      " 22  weekly_icu_admissions_per_million      802 non-null    float64\n",
      " 23  weekly_hosp_admissions                 1395 non-null   float64\n",
      " 24  weekly_hosp_admissions_per_million     1395 non-null   float64\n",
      " 25  new_tests                              39957 non-null  float64\n",
      " 26  total_tests                            39654 non-null  float64\n",
      " 27  total_tests_per_thousand               39654 non-null  float64\n",
      " 28  new_tests_per_thousand                 39957 non-null  float64\n",
      " 29  new_tests_smoothed                     45787 non-null  float64\n",
      " 30  new_tests_smoothed_per_thousand        45787 non-null  float64\n",
      " 31  positive_rate                          43140 non-null  float64\n",
      " 32  tests_per_case                         42546 non-null  float64\n",
      " 33  tests_units                            47271 non-null  object \n",
      " 34  total_vaccinations                     10563 non-null  float64\n",
      " 35  people_vaccinated                      9857 non-null   float64\n",
      " 36  people_fully_vaccinated                7410 non-null   float64\n",
      " 37  new_vaccinations                       8990 non-null   float64\n",
      " 38  new_vaccinations_smoothed              16802 non-null  float64\n",
      " 39  total_vaccinations_per_hundred         10563 non-null  float64\n",
      " 40  people_vaccinated_per_hundred          9857 non-null   float64\n",
      " 41  people_fully_vaccinated_per_hundred    7410 non-null   float64\n",
      " 42  new_vaccinations_smoothed_per_million  16802 non-null  float64\n",
      " 43  stringency_index                       74591 non-null  float64\n",
      " 44  population                             86905 non-null  float64\n",
      " 45  population_density                     81477 non-null  float64\n",
      " 46  median_age                             78781 non-null  float64\n",
      " 47  aged_65_older                          77883 non-null  float64\n",
      " 48  aged_70_older                          78340 non-null  float64\n",
      " 49  gdp_per_capita                         79149 non-null  float64\n",
      " 50  extreme_poverty                        53852 non-null  float64\n",
      " 51  cardiovasc_death_rate                  79715 non-null  float64\n",
      " 52  diabetes_prevalence                    80937 non-null  float64\n",
      " 53  female_smokers                         62444 non-null  float64\n",
      " 54  male_smokers                           61525 non-null  float64\n",
      " 55  handwashing_facilities                 40052 non-null  float64\n",
      " 56  hospital_beds_per_thousand             72727 non-null  float64\n",
      " 57  life_expectancy                        83069 non-null  float64\n",
      " 58  human_development_index                79591 non-null  float64\n",
      "dtypes: float64(54), object(5)\n",
      "memory usage: 37.7+ MB\n",
      "None\n"
     ]
    }
   ],
   "source": [
    "#INFORMATION REGARDING DATASET\n",
    "print(df.info())"
   ]
  },
  {
   "cell_type": "code",
   "execution_count": 6,
   "metadata": {},
   "outputs": [
    {
     "name": "stdout",
     "output_type": "stream",
     "text": [
      "        total_cases      new_cases  new_cases_smoothed  total_deaths  \\\n",
      "count  8.526100e+04   85259.000000        84258.000000  7.551200e+04   \n",
      "mean   8.682318e+05    5961.007542         5953.002395  2.388778e+04   \n",
      "std    5.993556e+06   37527.510075        36961.705858  1.415313e+05   \n",
      "min    1.000000e+00  -74347.000000        -6223.000000  1.000000e+00   \n",
      "25%    9.890000e+02       2.000000            7.000000  4.600000e+01   \n",
      "50%    1.102200e+04      71.000000           87.714000  3.260000e+02   \n",
      "75%    1.170610e+05     779.000000          813.393250  3.168000e+03   \n",
      "max    1.596908e+08  905992.000000       826374.286000  3.317325e+06   \n",
      "\n",
      "         new_deaths  new_deaths_smoothed  total_cases_per_million  \\\n",
      "count  75670.000000         84258.000000             84801.000000   \n",
      "mean     140.851487           125.135663             10618.873847   \n",
      "std      769.652950           706.552555             20213.336775   \n",
      "min    -1918.000000          -232.143000                 0.001000   \n",
      "25%        0.000000             0.000000               210.672000   \n",
      "50%        2.000000             1.286000              1443.989000   \n",
      "75%       18.000000            14.000000             10431.332000   \n",
      "max    17906.000000         14435.857000            174037.404000   \n",
      "\n",
      "       new_cases_per_million  new_cases_smoothed_per_million  \\\n",
      "count           84799.000000                    83803.000000   \n",
      "mean               75.259995                       75.288506   \n",
      "std               187.587529                      150.172492   \n",
      "min             -2153.437000                     -276.825000   \n",
      "25%                 0.196000                        1.190000   \n",
      "50%                 7.799000                       10.301000   \n",
      "75%                69.481500                       77.648000   \n",
      "max             18293.675000                     2648.773000   \n",
      "\n",
      "       total_deaths_per_million  ...  gdp_per_capita  extreme_poverty  \\\n",
      "count              75065.000000  ...    79149.000000     53852.000000   \n",
      "mean                 235.124996  ...    19145.453852        13.356954   \n",
      "std                  411.619199  ...    19840.273224        19.945478   \n",
      "min                    0.001000  ...      661.240000         0.100000   \n",
      "25%                    6.944000  ...     4466.507000         0.500000   \n",
      "50%                   41.848000  ...    12951.839000         2.200000   \n",
      "75%                  254.078000  ...    27216.445000        21.200000   \n",
      "max                 2980.430000  ...   116935.600000        77.600000   \n",
      "\n",
      "       cardiovasc_death_rate  diabetes_prevalence  female_smokers  \\\n",
      "count           79715.000000         80937.000000    62444.000000   \n",
      "mean              257.911617             7.826250       10.531381   \n",
      "std               118.803541             3.988796       10.414952   \n",
      "min                79.370000             0.990000        0.100000   \n",
      "25%               167.295000             5.290000        1.900000   \n",
      "50%               242.648000             7.110000        6.300000   \n",
      "75%               329.635000            10.080000       19.300000   \n",
      "max               724.417000            30.530000       44.000000   \n",
      "\n",
      "       male_smokers  handwashing_facilities  hospital_beds_per_thousand  \\\n",
      "count  61525.000000            40052.000000                72727.000000   \n",
      "mean      32.661691               50.899381                    3.029818   \n",
      "std       13.473417               31.762308                    2.462597   \n",
      "min        7.700000                1.188000                    0.100000   \n",
      "25%       21.600000               20.859000                    1.300000   \n",
      "50%       31.400000               49.839000                    2.400000   \n",
      "75%       41.100000               83.241000                    3.861000   \n",
      "max       78.100000               98.999000                   13.800000   \n",
      "\n",
      "       life_expectancy  human_development_index  \n",
      "count     83069.000000             79591.000000  \n",
      "mean         73.164818                 0.727064  \n",
      "std           7.550728                 0.150072  \n",
      "min          53.280000                 0.394000  \n",
      "25%          67.920000                 0.602000  \n",
      "50%          74.530000                 0.748000  \n",
      "75%          78.730000                 0.848000  \n",
      "max          86.750000                 0.957000  \n",
      "\n",
      "[8 rows x 54 columns]\n"
     ]
    }
   ],
   "source": [
    "#STATISTICAL INFORMATION OF DATASET\n",
    "print(df.describe())"
   ]
  },
  {
   "cell_type": "code",
   "execution_count": 7,
   "metadata": {},
   "outputs": [
    {
     "name": "stdout",
     "output_type": "stream",
     "text": [
      "(87483, 59)\n"
     ]
    }
   ],
   "source": [
    "#NUMBER OF ROWS AND COLUMNS IN DATASET\n",
    "print(df.shape)"
   ]
  },
  {
   "cell_type": "code",
   "execution_count": 8,
   "metadata": {},
   "outputs": [
    {
     "name": "stdout",
     "output_type": "stream",
     "text": [
      "iso_code                                     0\n",
      "continent                                 4210\n",
      "location                                     0\n",
      "date                                         0\n",
      "total_cases                               2222\n",
      "new_cases                                 2224\n",
      "new_cases_smoothed                        3225\n",
      "total_deaths                             11971\n",
      "new_deaths                               11813\n",
      "new_deaths_smoothed                       3225\n",
      "total_cases_per_million                   2682\n",
      "new_cases_per_million                     2684\n",
      "new_cases_smoothed_per_million            3680\n",
      "total_deaths_per_million                 12418\n",
      "new_deaths_per_million                   12260\n",
      "new_deaths_smoothed_per_million           3680\n",
      "reproduction_rate                        16721\n",
      "icu_patients                             78638\n",
      "icu_patients_per_million                 78638\n",
      "hosp_patients                            76469\n",
      "hosp_patients_per_million                76469\n",
      "weekly_icu_admissions                    86681\n",
      "weekly_icu_admissions_per_million        86681\n",
      "weekly_hosp_admissions                   86088\n",
      "weekly_hosp_admissions_per_million       86088\n",
      "new_tests                                47526\n",
      "total_tests                              47829\n",
      "total_tests_per_thousand                 47829\n",
      "new_tests_per_thousand                   47526\n",
      "new_tests_smoothed                       41696\n",
      "new_tests_smoothed_per_thousand          41696\n",
      "positive_rate                            44343\n",
      "tests_per_case                           44937\n",
      "tests_units                              40212\n",
      "total_vaccinations                       76920\n",
      "people_vaccinated                        77626\n",
      "people_fully_vaccinated                  80073\n",
      "new_vaccinations                         78493\n",
      "new_vaccinations_smoothed                70681\n",
      "total_vaccinations_per_hundred           76920\n",
      "people_vaccinated_per_hundred            77626\n",
      "people_fully_vaccinated_per_hundred      80073\n",
      "new_vaccinations_smoothed_per_million    70681\n",
      "stringency_index                         12892\n",
      "population                                 578\n",
      "population_density                        6006\n",
      "median_age                                8702\n",
      "aged_65_older                             9600\n",
      "aged_70_older                             9143\n",
      "gdp_per_capita                            8334\n",
      "extreme_poverty                          33631\n",
      "cardiovasc_death_rate                     7768\n",
      "diabetes_prevalence                       6546\n",
      "female_smokers                           25039\n",
      "male_smokers                             25958\n",
      "handwashing_facilities                   47431\n",
      "hospital_beds_per_thousand               14756\n",
      "life_expectancy                           4414\n",
      "human_development_index                   7892\n",
      "dtype: int64\n"
     ]
    }
   ],
   "source": [
    "#NUMBER OF MISSING VALUES IN DATASET\n",
    "print(df.isna().sum())"
   ]
  },
  {
   "cell_type": "code",
   "execution_count": 9,
   "metadata": {},
   "outputs": [
    {
     "name": "stdout",
     "output_type": "stream",
     "text": [
      "      iso_code continent     location        date  total_cases  new_cases  \\\n",
      "265        AFG      Asia  Afghanistan  2020-11-15      43240.0      205.0   \n",
      "719   OWID_AFR       NaN       Africa  2020-11-15    1976022.0    12570.0   \n",
      "1161       ALB    Europe      Albania  2020-11-15      27830.0      597.0   \n",
      "1603       DZA    Africa      Algeria  2020-11-15      67679.0      860.0   \n",
      "2039       AND    Europe      Andorra  2020-11-15       5872.0      147.0   \n",
      "\n",
      "      new_cases_smoothed  total_deaths  new_deaths  new_deaths_smoothed  ...  \\\n",
      "265              154.429        1620.0        12.0                7.857  ...   \n",
      "719            13308.857       47362.0       296.0              286.000  ...   \n",
      "1161             517.714         623.0        11.0                9.143  ...   \n",
      "1603             804.000        2154.0        15.0               15.143  ...   \n",
      "2039              69.857          76.0         1.0                0.143  ...   \n",
      "\n",
      "      gdp_per_capita  extreme_poverty  cardiovasc_death_rate  \\\n",
      "265         1803.987              NaN                597.029   \n",
      "719              NaN              NaN                    NaN   \n",
      "1161       11803.431              1.1                304.195   \n",
      "1603       13913.839              0.5                278.364   \n",
      "2039             NaN              NaN                109.135   \n",
      "\n",
      "      diabetes_prevalence  female_smokers  male_smokers  \\\n",
      "265                  9.59             NaN           NaN   \n",
      "719                   NaN             NaN           NaN   \n",
      "1161                10.08             7.1          51.2   \n",
      "1603                 6.73             0.7          30.4   \n",
      "2039                 7.97            29.0          37.8   \n",
      "\n",
      "      handwashing_facilities  hospital_beds_per_thousand  life_expectancy  \\\n",
      "265                   37.746                        0.50            64.83   \n",
      "719                      NaN                         NaN              NaN   \n",
      "1161                     NaN                        2.89            78.57   \n",
      "1603                  83.741                        1.90            76.88   \n",
      "2039                     NaN                         NaN            83.73   \n",
      "\n",
      "      human_development_index  \n",
      "265                     0.511  \n",
      "719                       NaN  \n",
      "1161                    0.795  \n",
      "1603                    0.748  \n",
      "2039                    0.868  \n",
      "\n",
      "[5 rows x 59 columns]\n"
     ]
    }
   ],
   "source": [
    "#FILTERING ROWS IN DATASET\n",
    "df_a=df[df[\"date\"]==\"2020-11-15\"]\n",
    "df_a=df_a[~df_a[\"location\"].isin([\"World\",\"International\"])]\n",
    "print(df_a.head())"
   ]
  },
  {
   "cell_type": "markdown",
   "metadata": {},
   "source": [
    "**DATA VISUALIZATION**"
   ]
  },
  {
   "cell_type": "code",
   "execution_count": 20,
   "metadata": {},
   "outputs": [
    {
     "data": {
      "application/vnd.plotly.v1+json": {
       "config": {
        "plotlyServerURL": "https://plot.ly"
       },
       "data": [
        {
         "coloraxis": "coloraxis",
         "geo": "geo",
         "hovertemplate": "<b>%{hovertext}</b><br><br>iso_code=%{location}<br>total_cases=%{z}<extra></extra>",
         "hovertext": [
          "Afghanistan",
          "Africa",
          "Albania",
          "Algeria",
          "Andorra",
          "Angola",
          "Antigua and Barbuda",
          "Argentina",
          "Armenia",
          "Asia",
          "Australia",
          "Austria",
          "Azerbaijan",
          "Bahamas",
          "Bahrain",
          "Bangladesh",
          "Barbados",
          "Belarus",
          "Belgium",
          "Belize",
          "Benin",
          "Bhutan",
          "Bolivia",
          "Bosnia and Herzegovina",
          "Botswana",
          "Brazil",
          "Brunei",
          "Bulgaria",
          "Burkina Faso",
          "Burundi",
          "Cambodia",
          "Cameroon",
          "Canada",
          "Cape Verde",
          "Central African Republic",
          "Chad",
          "Chile",
          "China",
          "Colombia",
          "Comoros",
          "Congo",
          "Costa Rica",
          "Cote d'Ivoire",
          "Croatia",
          "Cuba",
          "Cyprus",
          "Czechia",
          "Democratic Republic of Congo",
          "Denmark",
          "Djibouti",
          "Dominica",
          "Dominican Republic",
          "Ecuador",
          "Egypt",
          "El Salvador",
          "Equatorial Guinea",
          "Eritrea",
          "Estonia",
          "Eswatini",
          "Ethiopia",
          "Europe",
          "European Union",
          "Fiji",
          "Finland",
          "France",
          "Gabon",
          "Gambia",
          "Georgia",
          "Germany",
          "Ghana",
          "Greece",
          "Grenada",
          "Guatemala",
          "Guinea",
          "Guinea-Bissau",
          "Guyana",
          "Haiti",
          "Honduras",
          "Hungary",
          "Iceland",
          "India",
          "Indonesia",
          "Iran",
          "Iraq",
          "Ireland",
          "Israel",
          "Italy",
          "Jamaica",
          "Japan",
          "Jordan",
          "Kazakhstan",
          "Kenya",
          "Kosovo",
          "Kuwait",
          "Kyrgyzstan",
          "Laos",
          "Latvia",
          "Lebanon",
          "Lesotho",
          "Liberia",
          "Libya",
          "Liechtenstein",
          "Lithuania",
          "Luxembourg",
          "Madagascar",
          "Malawi",
          "Malaysia",
          "Maldives",
          "Mali",
          "Malta",
          "Marshall Islands",
          "Mauritania",
          "Mauritius",
          "Mexico",
          "Moldova",
          "Monaco",
          "Mongolia",
          "Montenegro",
          "Morocco",
          "Mozambique",
          "Myanmar",
          "Namibia",
          "Nepal",
          "Netherlands",
          "New Zealand",
          "Nicaragua",
          "Niger",
          "Nigeria",
          "North America",
          "North Macedonia",
          "Norway",
          "Oceania",
          "Oman",
          "Pakistan",
          "Palestine",
          "Panama",
          "Papua New Guinea",
          "Paraguay",
          "Peru",
          "Philippines",
          "Poland",
          "Portugal",
          "Qatar",
          "Romania",
          "Russia",
          "Rwanda",
          "Saint Kitts and Nevis",
          "Saint Lucia",
          "Saint Vincent and the Grenadines",
          "San Marino",
          "Sao Tome and Principe",
          "Saudi Arabia",
          "Senegal",
          "Serbia",
          "Seychelles",
          "Sierra Leone",
          "Singapore",
          "Slovakia",
          "Slovenia",
          "Solomon Islands",
          "Somalia",
          "South Africa",
          "South America",
          "South Korea",
          "South Sudan",
          "Spain",
          "Sri Lanka",
          "Sudan",
          "Suriname",
          "Sweden",
          "Switzerland",
          "Syria",
          "Taiwan",
          "Tajikistan",
          "Tanzania",
          "Thailand",
          "Timor",
          "Togo",
          "Trinidad and Tobago",
          "Tunisia",
          "Turkey",
          "Uganda",
          "Ukraine",
          "United Arab Emirates",
          "United Kingdom",
          "United States",
          "Uruguay",
          "Uzbekistan",
          "Vanuatu",
          "Vatican",
          "Venezuela",
          "Vietnam",
          "Yemen",
          "Zambia",
          "Zimbabwe"
         ],
         "locations": [
          "AFG",
          "OWID_AFR",
          "ALB",
          "DZA",
          "AND",
          "AGO",
          "ATG",
          "ARG",
          "ARM",
          "OWID_ASI",
          "AUS",
          "AUT",
          "AZE",
          "BHS",
          "BHR",
          "BGD",
          "BRB",
          "BLR",
          "BEL",
          "BLZ",
          "BEN",
          "BTN",
          "BOL",
          "BIH",
          "BWA",
          "BRA",
          "BRN",
          "BGR",
          "BFA",
          "BDI",
          "KHM",
          "CMR",
          "CAN",
          "CPV",
          "CAF",
          "TCD",
          "CHL",
          "CHN",
          "COL",
          "COM",
          "COG",
          "CRI",
          "CIV",
          "HRV",
          "CUB",
          "CYP",
          "CZE",
          "COD",
          "DNK",
          "DJI",
          "DMA",
          "DOM",
          "ECU",
          "EGY",
          "SLV",
          "GNQ",
          "ERI",
          "EST",
          "SWZ",
          "ETH",
          "OWID_EUR",
          "OWID_EUN",
          "FJI",
          "FIN",
          "FRA",
          "GAB",
          "GMB",
          "GEO",
          "DEU",
          "GHA",
          "GRC",
          "GRD",
          "GTM",
          "GIN",
          "GNB",
          "GUY",
          "HTI",
          "HND",
          "HUN",
          "ISL",
          "IND",
          "IDN",
          "IRN",
          "IRQ",
          "IRL",
          "ISR",
          "ITA",
          "JAM",
          "JPN",
          "JOR",
          "KAZ",
          "KEN",
          "OWID_KOS",
          "KWT",
          "KGZ",
          "LAO",
          "LVA",
          "LBN",
          "LSO",
          "LBR",
          "LBY",
          "LIE",
          "LTU",
          "LUX",
          "MDG",
          "MWI",
          "MYS",
          "MDV",
          "MLI",
          "MLT",
          "MHL",
          "MRT",
          "MUS",
          "MEX",
          "MDA",
          "MCO",
          "MNG",
          "MNE",
          "MAR",
          "MOZ",
          "MMR",
          "NAM",
          "NPL",
          "NLD",
          "NZL",
          "NIC",
          "NER",
          "NGA",
          "OWID_NAM",
          "MKD",
          "NOR",
          "OWID_OCE",
          "OMN",
          "PAK",
          "PSE",
          "PAN",
          "PNG",
          "PRY",
          "PER",
          "PHL",
          "POL",
          "PRT",
          "QAT",
          "ROU",
          "RUS",
          "RWA",
          "KNA",
          "LCA",
          "VCT",
          "SMR",
          "STP",
          "SAU",
          "SEN",
          "SRB",
          "SYC",
          "SLE",
          "SGP",
          "SVK",
          "SVN",
          "SLB",
          "SOM",
          "ZAF",
          "OWID_SAM",
          "KOR",
          "SSD",
          "ESP",
          "LKA",
          "SDN",
          "SUR",
          "SWE",
          "CHE",
          "SYR",
          "TWN",
          "TJK",
          "TZA",
          "THA",
          "TLS",
          "TGO",
          "TTO",
          "TUN",
          "TUR",
          "UGA",
          "UKR",
          "ARE",
          "GBR",
          "USA",
          "URY",
          "UZB",
          "VUT",
          "VAT",
          "VEN",
          "VNM",
          "YEM",
          "ZMB",
          "ZWE"
         ],
         "name": "",
         "type": "choropleth",
         "z": [
          43240,
          1976022,
          27830,
          67679,
          5872,
          13451,
          134,
          1310491,
          117337,
          15118723,
          27749,
          203956,
          75688,
          7186,
          84703,
          432333,
          250,
          114185,
          535939,
          4861,
          2844,
          375,
          143246,
          71956,
          8225,
          5863093,
          148,
          98251,
          2641,
          628,
          302,
          22692,
          299440,
          9822,
          4900,
          1597,
          531273,
          91850,
          1198746,
          579,
          5515,
          123223,
          20976,
          84206,
          7590,
          7178,
          460116,
          11760,
          62652,
          5649,
          68,
          133724,
          180295,
          110767,
          36516,
          5104,
          493,
          7637,
          6095,
          102720,
          14004896,
          9379723,
          35,
          19315,
          2033419,
          9062,
          3702,
          79678,
          802946,
          50123,
          74205,
          32,
          114885,
          12611,
          2419,
          4823,
          9168,
          103102,
          140961,
          5189,
          8845127,
          467113,
          762068,
          519152,
          67903,
          324088,
          1178529,
          9884,
          118611,
          143678,
          160612,
          70245,
          29117,
          136840,
          66983,
          24,
          10547,
          105430,
          2041,
          1507,
          73602,
          985,
          34728,
          25931,
          17310,
          5965,
          47417,
          12204,
          3900,
          8034,
          1,
          7952,
          478,
          1006522,
          89279,
          548,
          431,
          27177,
          293177,
          14448,
          68994,
          13508,
          209776,
          454961,
          2001,
          5661,
          1307,
          65148,
          13159526,
          47050,
          28434,
          30405,
          120389,
          359032,
          63031,
          146653,
          602,
          71574,
          934899,
          407838,
          712972,
          217301,
          135785,
          360281,
          1910149,
          5455,
          19,
          162,
          78,
          1253,
          965,
          353255,
          15793,
          84568,
          160,
          2391,
          58119,
          86767,
          55042,
          16,
          4301,
          751024,
          10345096,
          28769,
          3003,
          1458591,
          17287,
          14728,
          5274,
          177355,
          257135,
          6684,
          602,
          11610,
          509,
          3875,
          30,
          2675,
          6080,
          80404,
          414278,
          16020,
          551533,
          150345,
          1372886,
          11144288,
          4030,
          70243,
          1,
          27,
          97352,
          1281,
          2068,
          17123,
          8829
         ]
        }
       ],
       "layout": {
        "coloraxis": {
         "colorbar": {
          "title": {
           "text": "total_cases"
          }
         },
         "colorscale": [
          [
           0,
           "#28B463"
          ],
          [
           0.5,
           "#F7DC6F"
          ],
          [
           1,
           "#CB4335"
          ]
         ]
        },
        "geo": {
         "center": {},
         "domain": {
          "x": [
           0,
           1
          ],
          "y": [
           0,
           1
          ]
         }
        },
        "legend": {
         "tracegroupgap": 0
        },
        "template": {
         "data": {
          "bar": [
           {
            "error_x": {
             "color": "#2a3f5f"
            },
            "error_y": {
             "color": "#2a3f5f"
            },
            "marker": {
             "line": {
              "color": "#E5ECF6",
              "width": 0.5
             }
            },
            "type": "bar"
           }
          ],
          "barpolar": [
           {
            "marker": {
             "line": {
              "color": "#E5ECF6",
              "width": 0.5
             }
            },
            "type": "barpolar"
           }
          ],
          "carpet": [
           {
            "aaxis": {
             "endlinecolor": "#2a3f5f",
             "gridcolor": "white",
             "linecolor": "white",
             "minorgridcolor": "white",
             "startlinecolor": "#2a3f5f"
            },
            "baxis": {
             "endlinecolor": "#2a3f5f",
             "gridcolor": "white",
             "linecolor": "white",
             "minorgridcolor": "white",
             "startlinecolor": "#2a3f5f"
            },
            "type": "carpet"
           }
          ],
          "choropleth": [
           {
            "colorbar": {
             "outlinewidth": 0,
             "ticks": ""
            },
            "type": "choropleth"
           }
          ],
          "contour": [
           {
            "colorbar": {
             "outlinewidth": 0,
             "ticks": ""
            },
            "colorscale": [
             [
              0,
              "#0d0887"
             ],
             [
              0.1111111111111111,
              "#46039f"
             ],
             [
              0.2222222222222222,
              "#7201a8"
             ],
             [
              0.3333333333333333,
              "#9c179e"
             ],
             [
              0.4444444444444444,
              "#bd3786"
             ],
             [
              0.5555555555555556,
              "#d8576b"
             ],
             [
              0.6666666666666666,
              "#ed7953"
             ],
             [
              0.7777777777777778,
              "#fb9f3a"
             ],
             [
              0.8888888888888888,
              "#fdca26"
             ],
             [
              1,
              "#f0f921"
             ]
            ],
            "type": "contour"
           }
          ],
          "contourcarpet": [
           {
            "colorbar": {
             "outlinewidth": 0,
             "ticks": ""
            },
            "type": "contourcarpet"
           }
          ],
          "heatmap": [
           {
            "colorbar": {
             "outlinewidth": 0,
             "ticks": ""
            },
            "colorscale": [
             [
              0,
              "#0d0887"
             ],
             [
              0.1111111111111111,
              "#46039f"
             ],
             [
              0.2222222222222222,
              "#7201a8"
             ],
             [
              0.3333333333333333,
              "#9c179e"
             ],
             [
              0.4444444444444444,
              "#bd3786"
             ],
             [
              0.5555555555555556,
              "#d8576b"
             ],
             [
              0.6666666666666666,
              "#ed7953"
             ],
             [
              0.7777777777777778,
              "#fb9f3a"
             ],
             [
              0.8888888888888888,
              "#fdca26"
             ],
             [
              1,
              "#f0f921"
             ]
            ],
            "type": "heatmap"
           }
          ],
          "heatmapgl": [
           {
            "colorbar": {
             "outlinewidth": 0,
             "ticks": ""
            },
            "colorscale": [
             [
              0,
              "#0d0887"
             ],
             [
              0.1111111111111111,
              "#46039f"
             ],
             [
              0.2222222222222222,
              "#7201a8"
             ],
             [
              0.3333333333333333,
              "#9c179e"
             ],
             [
              0.4444444444444444,
              "#bd3786"
             ],
             [
              0.5555555555555556,
              "#d8576b"
             ],
             [
              0.6666666666666666,
              "#ed7953"
             ],
             [
              0.7777777777777778,
              "#fb9f3a"
             ],
             [
              0.8888888888888888,
              "#fdca26"
             ],
             [
              1,
              "#f0f921"
             ]
            ],
            "type": "heatmapgl"
           }
          ],
          "histogram": [
           {
            "marker": {
             "colorbar": {
              "outlinewidth": 0,
              "ticks": ""
             }
            },
            "type": "histogram"
           }
          ],
          "histogram2d": [
           {
            "colorbar": {
             "outlinewidth": 0,
             "ticks": ""
            },
            "colorscale": [
             [
              0,
              "#0d0887"
             ],
             [
              0.1111111111111111,
              "#46039f"
             ],
             [
              0.2222222222222222,
              "#7201a8"
             ],
             [
              0.3333333333333333,
              "#9c179e"
             ],
             [
              0.4444444444444444,
              "#bd3786"
             ],
             [
              0.5555555555555556,
              "#d8576b"
             ],
             [
              0.6666666666666666,
              "#ed7953"
             ],
             [
              0.7777777777777778,
              "#fb9f3a"
             ],
             [
              0.8888888888888888,
              "#fdca26"
             ],
             [
              1,
              "#f0f921"
             ]
            ],
            "type": "histogram2d"
           }
          ],
          "histogram2dcontour": [
           {
            "colorbar": {
             "outlinewidth": 0,
             "ticks": ""
            },
            "colorscale": [
             [
              0,
              "#0d0887"
             ],
             [
              0.1111111111111111,
              "#46039f"
             ],
             [
              0.2222222222222222,
              "#7201a8"
             ],
             [
              0.3333333333333333,
              "#9c179e"
             ],
             [
              0.4444444444444444,
              "#bd3786"
             ],
             [
              0.5555555555555556,
              "#d8576b"
             ],
             [
              0.6666666666666666,
              "#ed7953"
             ],
             [
              0.7777777777777778,
              "#fb9f3a"
             ],
             [
              0.8888888888888888,
              "#fdca26"
             ],
             [
              1,
              "#f0f921"
             ]
            ],
            "type": "histogram2dcontour"
           }
          ],
          "mesh3d": [
           {
            "colorbar": {
             "outlinewidth": 0,
             "ticks": ""
            },
            "type": "mesh3d"
           }
          ],
          "parcoords": [
           {
            "line": {
             "colorbar": {
              "outlinewidth": 0,
              "ticks": ""
             }
            },
            "type": "parcoords"
           }
          ],
          "pie": [
           {
            "automargin": true,
            "type": "pie"
           }
          ],
          "scatter": [
           {
            "marker": {
             "colorbar": {
              "outlinewidth": 0,
              "ticks": ""
             }
            },
            "type": "scatter"
           }
          ],
          "scatter3d": [
           {
            "line": {
             "colorbar": {
              "outlinewidth": 0,
              "ticks": ""
             }
            },
            "marker": {
             "colorbar": {
              "outlinewidth": 0,
              "ticks": ""
             }
            },
            "type": "scatter3d"
           }
          ],
          "scattercarpet": [
           {
            "marker": {
             "colorbar": {
              "outlinewidth": 0,
              "ticks": ""
             }
            },
            "type": "scattercarpet"
           }
          ],
          "scattergeo": [
           {
            "marker": {
             "colorbar": {
              "outlinewidth": 0,
              "ticks": ""
             }
            },
            "type": "scattergeo"
           }
          ],
          "scattergl": [
           {
            "marker": {
             "colorbar": {
              "outlinewidth": 0,
              "ticks": ""
             }
            },
            "type": "scattergl"
           }
          ],
          "scattermapbox": [
           {
            "marker": {
             "colorbar": {
              "outlinewidth": 0,
              "ticks": ""
             }
            },
            "type": "scattermapbox"
           }
          ],
          "scatterpolar": [
           {
            "marker": {
             "colorbar": {
              "outlinewidth": 0,
              "ticks": ""
             }
            },
            "type": "scatterpolar"
           }
          ],
          "scatterpolargl": [
           {
            "marker": {
             "colorbar": {
              "outlinewidth": 0,
              "ticks": ""
             }
            },
            "type": "scatterpolargl"
           }
          ],
          "scatterternary": [
           {
            "marker": {
             "colorbar": {
              "outlinewidth": 0,
              "ticks": ""
             }
            },
            "type": "scatterternary"
           }
          ],
          "surface": [
           {
            "colorbar": {
             "outlinewidth": 0,
             "ticks": ""
            },
            "colorscale": [
             [
              0,
              "#0d0887"
             ],
             [
              0.1111111111111111,
              "#46039f"
             ],
             [
              0.2222222222222222,
              "#7201a8"
             ],
             [
              0.3333333333333333,
              "#9c179e"
             ],
             [
              0.4444444444444444,
              "#bd3786"
             ],
             [
              0.5555555555555556,
              "#d8576b"
             ],
             [
              0.6666666666666666,
              "#ed7953"
             ],
             [
              0.7777777777777778,
              "#fb9f3a"
             ],
             [
              0.8888888888888888,
              "#fdca26"
             ],
             [
              1,
              "#f0f921"
             ]
            ],
            "type": "surface"
           }
          ],
          "table": [
           {
            "cells": {
             "fill": {
              "color": "#EBF0F8"
             },
             "line": {
              "color": "white"
             }
            },
            "header": {
             "fill": {
              "color": "#C8D4E3"
             },
             "line": {
              "color": "white"
             }
            },
            "type": "table"
           }
          ]
         },
         "layout": {
          "annotationdefaults": {
           "arrowcolor": "#2a3f5f",
           "arrowhead": 0,
           "arrowwidth": 1
          },
          "autotypenumbers": "strict",
          "coloraxis": {
           "colorbar": {
            "outlinewidth": 0,
            "ticks": ""
           }
          },
          "colorscale": {
           "diverging": [
            [
             0,
             "#8e0152"
            ],
            [
             0.1,
             "#c51b7d"
            ],
            [
             0.2,
             "#de77ae"
            ],
            [
             0.3,
             "#f1b6da"
            ],
            [
             0.4,
             "#fde0ef"
            ],
            [
             0.5,
             "#f7f7f7"
            ],
            [
             0.6,
             "#e6f5d0"
            ],
            [
             0.7,
             "#b8e186"
            ],
            [
             0.8,
             "#7fbc41"
            ],
            [
             0.9,
             "#4d9221"
            ],
            [
             1,
             "#276419"
            ]
           ],
           "sequential": [
            [
             0,
             "#0d0887"
            ],
            [
             0.1111111111111111,
             "#46039f"
            ],
            [
             0.2222222222222222,
             "#7201a8"
            ],
            [
             0.3333333333333333,
             "#9c179e"
            ],
            [
             0.4444444444444444,
             "#bd3786"
            ],
            [
             0.5555555555555556,
             "#d8576b"
            ],
            [
             0.6666666666666666,
             "#ed7953"
            ],
            [
             0.7777777777777778,
             "#fb9f3a"
            ],
            [
             0.8888888888888888,
             "#fdca26"
            ],
            [
             1,
             "#f0f921"
            ]
           ],
           "sequentialminus": [
            [
             0,
             "#0d0887"
            ],
            [
             0.1111111111111111,
             "#46039f"
            ],
            [
             0.2222222222222222,
             "#7201a8"
            ],
            [
             0.3333333333333333,
             "#9c179e"
            ],
            [
             0.4444444444444444,
             "#bd3786"
            ],
            [
             0.5555555555555556,
             "#d8576b"
            ],
            [
             0.6666666666666666,
             "#ed7953"
            ],
            [
             0.7777777777777778,
             "#fb9f3a"
            ],
            [
             0.8888888888888888,
             "#fdca26"
            ],
            [
             1,
             "#f0f921"
            ]
           ]
          },
          "colorway": [
           "#636efa",
           "#EF553B",
           "#00cc96",
           "#ab63fa",
           "#FFA15A",
           "#19d3f3",
           "#FF6692",
           "#B6E880",
           "#FF97FF",
           "#FECB52"
          ],
          "font": {
           "color": "#2a3f5f"
          },
          "geo": {
           "bgcolor": "white",
           "lakecolor": "white",
           "landcolor": "#E5ECF6",
           "showlakes": true,
           "showland": true,
           "subunitcolor": "white"
          },
          "hoverlabel": {
           "align": "left"
          },
          "hovermode": "closest",
          "mapbox": {
           "style": "light"
          },
          "paper_bgcolor": "white",
          "plot_bgcolor": "#E5ECF6",
          "polar": {
           "angularaxis": {
            "gridcolor": "white",
            "linecolor": "white",
            "ticks": ""
           },
           "bgcolor": "#E5ECF6",
           "radialaxis": {
            "gridcolor": "white",
            "linecolor": "white",
            "ticks": ""
           }
          },
          "scene": {
           "xaxis": {
            "backgroundcolor": "#E5ECF6",
            "gridcolor": "white",
            "gridwidth": 2,
            "linecolor": "white",
            "showbackground": true,
            "ticks": "",
            "zerolinecolor": "white"
           },
           "yaxis": {
            "backgroundcolor": "#E5ECF6",
            "gridcolor": "white",
            "gridwidth": 2,
            "linecolor": "white",
            "showbackground": true,
            "ticks": "",
            "zerolinecolor": "white"
           },
           "zaxis": {
            "backgroundcolor": "#E5ECF6",
            "gridcolor": "white",
            "gridwidth": 2,
            "linecolor": "white",
            "showbackground": true,
            "ticks": "",
            "zerolinecolor": "white"
           }
          },
          "shapedefaults": {
           "line": {
            "color": "#2a3f5f"
           }
          },
          "ternary": {
           "aaxis": {
            "gridcolor": "white",
            "linecolor": "white",
            "ticks": ""
           },
           "baxis": {
            "gridcolor": "white",
            "linecolor": "white",
            "ticks": ""
           },
           "bgcolor": "#E5ECF6",
           "caxis": {
            "gridcolor": "white",
            "linecolor": "white",
            "ticks": ""
           }
          },
          "title": {
           "x": 0.05
          },
          "xaxis": {
           "automargin": true,
           "gridcolor": "white",
           "linecolor": "white",
           "ticks": "",
           "title": {
            "standoff": 15
           },
           "zerolinecolor": "white",
           "zerolinewidth": 2
          },
          "yaxis": {
           "automargin": true,
           "gridcolor": "white",
           "linecolor": "white",
           "ticks": "",
           "title": {
            "standoff": 15
           },
           "zerolinecolor": "white",
           "zerolinewidth": 2
          }
         }
        },
        "title": {
         "text": "Total Cases of Covid19 in the World"
        }
       }
      },
      "text/html": [
       "<div>                            <div id=\"eff76d27-41ae-4b79-9d87-66b956525da8\" class=\"plotly-graph-div\" style=\"height:525px; width:100%;\"></div>            <script type=\"text/javascript\">                require([\"plotly\"], function(Plotly) {                    window.PLOTLYENV=window.PLOTLYENV || {};                                    if (document.getElementById(\"eff76d27-41ae-4b79-9d87-66b956525da8\")) {                    Plotly.newPlot(                        \"eff76d27-41ae-4b79-9d87-66b956525da8\",                        [{\"coloraxis\": \"coloraxis\", \"geo\": \"geo\", \"hovertemplate\": \"<b>%{hovertext}</b><br><br>iso_code=%{location}<br>total_cases=%{z}<extra></extra>\", \"hovertext\": [\"Afghanistan\", \"Africa\", \"Albania\", \"Algeria\", \"Andorra\", \"Angola\", \"Antigua and Barbuda\", \"Argentina\", \"Armenia\", \"Asia\", \"Australia\", \"Austria\", \"Azerbaijan\", \"Bahamas\", \"Bahrain\", \"Bangladesh\", \"Barbados\", \"Belarus\", \"Belgium\", \"Belize\", \"Benin\", \"Bhutan\", \"Bolivia\", \"Bosnia and Herzegovina\", \"Botswana\", \"Brazil\", \"Brunei\", \"Bulgaria\", \"Burkina Faso\", \"Burundi\", \"Cambodia\", \"Cameroon\", \"Canada\", \"Cape Verde\", \"Central African Republic\", \"Chad\", \"Chile\", \"China\", \"Colombia\", \"Comoros\", \"Congo\", \"Costa Rica\", \"Cote d'Ivoire\", \"Croatia\", \"Cuba\", \"Cyprus\", \"Czechia\", \"Democratic Republic of Congo\", \"Denmark\", \"Djibouti\", \"Dominica\", \"Dominican Republic\", \"Ecuador\", \"Egypt\", \"El Salvador\", \"Equatorial Guinea\", \"Eritrea\", \"Estonia\", \"Eswatini\", \"Ethiopia\", \"Europe\", \"European Union\", \"Fiji\", \"Finland\", \"France\", \"Gabon\", \"Gambia\", \"Georgia\", \"Germany\", \"Ghana\", \"Greece\", \"Grenada\", \"Guatemala\", \"Guinea\", \"Guinea-Bissau\", \"Guyana\", \"Haiti\", \"Honduras\", \"Hungary\", \"Iceland\", \"India\", \"Indonesia\", \"Iran\", \"Iraq\", \"Ireland\", \"Israel\", \"Italy\", \"Jamaica\", \"Japan\", \"Jordan\", \"Kazakhstan\", \"Kenya\", \"Kosovo\", \"Kuwait\", \"Kyrgyzstan\", \"Laos\", \"Latvia\", \"Lebanon\", \"Lesotho\", \"Liberia\", \"Libya\", \"Liechtenstein\", \"Lithuania\", \"Luxembourg\", \"Madagascar\", \"Malawi\", \"Malaysia\", \"Maldives\", \"Mali\", \"Malta\", \"Marshall Islands\", \"Mauritania\", \"Mauritius\", \"Mexico\", \"Moldova\", \"Monaco\", \"Mongolia\", \"Montenegro\", \"Morocco\", \"Mozambique\", \"Myanmar\", \"Namibia\", \"Nepal\", \"Netherlands\", \"New Zealand\", \"Nicaragua\", \"Niger\", \"Nigeria\", \"North America\", \"North Macedonia\", \"Norway\", \"Oceania\", \"Oman\", \"Pakistan\", \"Palestine\", \"Panama\", \"Papua New Guinea\", \"Paraguay\", \"Peru\", \"Philippines\", \"Poland\", \"Portugal\", \"Qatar\", \"Romania\", \"Russia\", \"Rwanda\", \"Saint Kitts and Nevis\", \"Saint Lucia\", \"Saint Vincent and the Grenadines\", \"San Marino\", \"Sao Tome and Principe\", \"Saudi Arabia\", \"Senegal\", \"Serbia\", \"Seychelles\", \"Sierra Leone\", \"Singapore\", \"Slovakia\", \"Slovenia\", \"Solomon Islands\", \"Somalia\", \"South Africa\", \"South America\", \"South Korea\", \"South Sudan\", \"Spain\", \"Sri Lanka\", \"Sudan\", \"Suriname\", \"Sweden\", \"Switzerland\", \"Syria\", \"Taiwan\", \"Tajikistan\", \"Tanzania\", \"Thailand\", \"Timor\", \"Togo\", \"Trinidad and Tobago\", \"Tunisia\", \"Turkey\", \"Uganda\", \"Ukraine\", \"United Arab Emirates\", \"United Kingdom\", \"United States\", \"Uruguay\", \"Uzbekistan\", \"Vanuatu\", \"Vatican\", \"Venezuela\", \"Vietnam\", \"Yemen\", \"Zambia\", \"Zimbabwe\"], \"locations\": [\"AFG\", \"OWID_AFR\", \"ALB\", \"DZA\", \"AND\", \"AGO\", \"ATG\", \"ARG\", \"ARM\", \"OWID_ASI\", \"AUS\", \"AUT\", \"AZE\", \"BHS\", \"BHR\", \"BGD\", \"BRB\", \"BLR\", \"BEL\", \"BLZ\", \"BEN\", \"BTN\", \"BOL\", \"BIH\", \"BWA\", \"BRA\", \"BRN\", \"BGR\", \"BFA\", \"BDI\", \"KHM\", \"CMR\", \"CAN\", \"CPV\", \"CAF\", \"TCD\", \"CHL\", \"CHN\", \"COL\", \"COM\", \"COG\", \"CRI\", \"CIV\", \"HRV\", \"CUB\", \"CYP\", \"CZE\", \"COD\", \"DNK\", \"DJI\", \"DMA\", \"DOM\", \"ECU\", \"EGY\", \"SLV\", \"GNQ\", \"ERI\", \"EST\", \"SWZ\", \"ETH\", \"OWID_EUR\", \"OWID_EUN\", \"FJI\", \"FIN\", \"FRA\", \"GAB\", \"GMB\", \"GEO\", \"DEU\", \"GHA\", \"GRC\", \"GRD\", \"GTM\", \"GIN\", \"GNB\", \"GUY\", \"HTI\", \"HND\", \"HUN\", \"ISL\", \"IND\", \"IDN\", \"IRN\", \"IRQ\", \"IRL\", \"ISR\", \"ITA\", \"JAM\", \"JPN\", \"JOR\", \"KAZ\", \"KEN\", \"OWID_KOS\", \"KWT\", \"KGZ\", \"LAO\", \"LVA\", \"LBN\", \"LSO\", \"LBR\", \"LBY\", \"LIE\", \"LTU\", \"LUX\", \"MDG\", \"MWI\", \"MYS\", \"MDV\", \"MLI\", \"MLT\", \"MHL\", \"MRT\", \"MUS\", \"MEX\", \"MDA\", \"MCO\", \"MNG\", \"MNE\", \"MAR\", \"MOZ\", \"MMR\", \"NAM\", \"NPL\", \"NLD\", \"NZL\", \"NIC\", \"NER\", \"NGA\", \"OWID_NAM\", \"MKD\", \"NOR\", \"OWID_OCE\", \"OMN\", \"PAK\", \"PSE\", \"PAN\", \"PNG\", \"PRY\", \"PER\", \"PHL\", \"POL\", \"PRT\", \"QAT\", \"ROU\", \"RUS\", \"RWA\", \"KNA\", \"LCA\", \"VCT\", \"SMR\", \"STP\", \"SAU\", \"SEN\", \"SRB\", \"SYC\", \"SLE\", \"SGP\", \"SVK\", \"SVN\", \"SLB\", \"SOM\", \"ZAF\", \"OWID_SAM\", \"KOR\", \"SSD\", \"ESP\", \"LKA\", \"SDN\", \"SUR\", \"SWE\", \"CHE\", \"SYR\", \"TWN\", \"TJK\", \"TZA\", \"THA\", \"TLS\", \"TGO\", \"TTO\", \"TUN\", \"TUR\", \"UGA\", \"UKR\", \"ARE\", \"GBR\", \"USA\", \"URY\", \"UZB\", \"VUT\", \"VAT\", \"VEN\", \"VNM\", \"YEM\", \"ZMB\", \"ZWE\"], \"name\": \"\", \"type\": \"choropleth\", \"z\": [43240.0, 1976022.0, 27830.0, 67679.0, 5872.0, 13451.0, 134.0, 1310491.0, 117337.0, 15118723.0, 27749.0, 203956.0, 75688.0, 7186.0, 84703.0, 432333.0, 250.0, 114185.0, 535939.0, 4861.0, 2844.0, 375.0, 143246.0, 71956.0, 8225.0, 5863093.0, 148.0, 98251.0, 2641.0, 628.0, 302.0, 22692.0, 299440.0, 9822.0, 4900.0, 1597.0, 531273.0, 91850.0, 1198746.0, 579.0, 5515.0, 123223.0, 20976.0, 84206.0, 7590.0, 7178.0, 460116.0, 11760.0, 62652.0, 5649.0, 68.0, 133724.0, 180295.0, 110767.0, 36516.0, 5104.0, 493.0, 7637.0, 6095.0, 102720.0, 14004896.0, 9379723.0, 35.0, 19315.0, 2033419.0, 9062.0, 3702.0, 79678.0, 802946.0, 50123.0, 74205.0, 32.0, 114885.0, 12611.0, 2419.0, 4823.0, 9168.0, 103102.0, 140961.0, 5189.0, 8845127.0, 467113.0, 762068.0, 519152.0, 67903.0, 324088.0, 1178529.0, 9884.0, 118611.0, 143678.0, 160612.0, 70245.0, 29117.0, 136840.0, 66983.0, 24.0, 10547.0, 105430.0, 2041.0, 1507.0, 73602.0, 985.0, 34728.0, 25931.0, 17310.0, 5965.0, 47417.0, 12204.0, 3900.0, 8034.0, 1.0, 7952.0, 478.0, 1006522.0, 89279.0, 548.0, 431.0, 27177.0, 293177.0, 14448.0, 68994.0, 13508.0, 209776.0, 454961.0, 2001.0, 5661.0, 1307.0, 65148.0, 13159526.0, 47050.0, 28434.0, 30405.0, 120389.0, 359032.0, 63031.0, 146653.0, 602.0, 71574.0, 934899.0, 407838.0, 712972.0, 217301.0, 135785.0, 360281.0, 1910149.0, 5455.0, 19.0, 162.0, 78.0, 1253.0, 965.0, 353255.0, 15793.0, 84568.0, 160.0, 2391.0, 58119.0, 86767.0, 55042.0, 16.0, 4301.0, 751024.0, 10345096.0, 28769.0, 3003.0, 1458591.0, 17287.0, 14728.0, 5274.0, 177355.0, 257135.0, 6684.0, 602.0, 11610.0, 509.0, 3875.0, 30.0, 2675.0, 6080.0, 80404.0, 414278.0, 16020.0, 551533.0, 150345.0, 1372886.0, 11144288.0, 4030.0, 70243.0, 1.0, 27.0, 97352.0, 1281.0, 2068.0, 17123.0, 8829.0]}],                        {\"coloraxis\": {\"colorbar\": {\"title\": {\"text\": \"total_cases\"}}, \"colorscale\": [[0.0, \"#28B463\"], [0.5, \"#F7DC6F\"], [1.0, \"#CB4335\"]]}, \"geo\": {\"center\": {}, \"domain\": {\"x\": [0.0, 1.0], \"y\": [0.0, 1.0]}}, \"legend\": {\"tracegroupgap\": 0}, \"template\": {\"data\": {\"bar\": [{\"error_x\": {\"color\": \"#2a3f5f\"}, \"error_y\": {\"color\": \"#2a3f5f\"}, \"marker\": {\"line\": {\"color\": \"#E5ECF6\", \"width\": 0.5}}, \"type\": \"bar\"}], \"barpolar\": [{\"marker\": {\"line\": {\"color\": \"#E5ECF6\", \"width\": 0.5}}, \"type\": \"barpolar\"}], \"carpet\": [{\"aaxis\": {\"endlinecolor\": \"#2a3f5f\", \"gridcolor\": \"white\", \"linecolor\": \"white\", \"minorgridcolor\": \"white\", \"startlinecolor\": \"#2a3f5f\"}, \"baxis\": {\"endlinecolor\": \"#2a3f5f\", \"gridcolor\": \"white\", \"linecolor\": \"white\", \"minorgridcolor\": \"white\", \"startlinecolor\": \"#2a3f5f\"}, \"type\": \"carpet\"}], \"choropleth\": [{\"colorbar\": {\"outlinewidth\": 0, \"ticks\": \"\"}, \"type\": \"choropleth\"}], \"contour\": [{\"colorbar\": {\"outlinewidth\": 0, \"ticks\": \"\"}, \"colorscale\": [[0.0, \"#0d0887\"], [0.1111111111111111, \"#46039f\"], [0.2222222222222222, \"#7201a8\"], [0.3333333333333333, \"#9c179e\"], [0.4444444444444444, \"#bd3786\"], [0.5555555555555556, \"#d8576b\"], [0.6666666666666666, \"#ed7953\"], [0.7777777777777778, \"#fb9f3a\"], [0.8888888888888888, \"#fdca26\"], [1.0, \"#f0f921\"]], \"type\": \"contour\"}], \"contourcarpet\": [{\"colorbar\": {\"outlinewidth\": 0, \"ticks\": \"\"}, \"type\": \"contourcarpet\"}], \"heatmap\": [{\"colorbar\": {\"outlinewidth\": 0, \"ticks\": \"\"}, \"colorscale\": [[0.0, \"#0d0887\"], [0.1111111111111111, \"#46039f\"], [0.2222222222222222, \"#7201a8\"], [0.3333333333333333, \"#9c179e\"], [0.4444444444444444, \"#bd3786\"], [0.5555555555555556, \"#d8576b\"], [0.6666666666666666, \"#ed7953\"], [0.7777777777777778, \"#fb9f3a\"], [0.8888888888888888, \"#fdca26\"], [1.0, \"#f0f921\"]], \"type\": \"heatmap\"}], \"heatmapgl\": [{\"colorbar\": {\"outlinewidth\": 0, \"ticks\": \"\"}, \"colorscale\": [[0.0, \"#0d0887\"], [0.1111111111111111, \"#46039f\"], [0.2222222222222222, \"#7201a8\"], [0.3333333333333333, \"#9c179e\"], [0.4444444444444444, \"#bd3786\"], [0.5555555555555556, \"#d8576b\"], [0.6666666666666666, \"#ed7953\"], [0.7777777777777778, \"#fb9f3a\"], [0.8888888888888888, \"#fdca26\"], [1.0, \"#f0f921\"]], \"type\": \"heatmapgl\"}], \"histogram\": [{\"marker\": {\"colorbar\": {\"outlinewidth\": 0, \"ticks\": \"\"}}, \"type\": \"histogram\"}], \"histogram2d\": [{\"colorbar\": {\"outlinewidth\": 0, \"ticks\": \"\"}, \"colorscale\": [[0.0, \"#0d0887\"], [0.1111111111111111, \"#46039f\"], [0.2222222222222222, \"#7201a8\"], [0.3333333333333333, \"#9c179e\"], [0.4444444444444444, \"#bd3786\"], [0.5555555555555556, \"#d8576b\"], [0.6666666666666666, \"#ed7953\"], [0.7777777777777778, \"#fb9f3a\"], [0.8888888888888888, \"#fdca26\"], [1.0, \"#f0f921\"]], \"type\": \"histogram2d\"}], \"histogram2dcontour\": [{\"colorbar\": {\"outlinewidth\": 0, \"ticks\": \"\"}, \"colorscale\": [[0.0, \"#0d0887\"], [0.1111111111111111, \"#46039f\"], [0.2222222222222222, \"#7201a8\"], [0.3333333333333333, \"#9c179e\"], [0.4444444444444444, \"#bd3786\"], [0.5555555555555556, \"#d8576b\"], [0.6666666666666666, \"#ed7953\"], [0.7777777777777778, \"#fb9f3a\"], [0.8888888888888888, \"#fdca26\"], [1.0, \"#f0f921\"]], \"type\": \"histogram2dcontour\"}], \"mesh3d\": [{\"colorbar\": {\"outlinewidth\": 0, \"ticks\": \"\"}, \"type\": \"mesh3d\"}], \"parcoords\": [{\"line\": {\"colorbar\": {\"outlinewidth\": 0, \"ticks\": \"\"}}, \"type\": \"parcoords\"}], \"pie\": [{\"automargin\": true, \"type\": \"pie\"}], \"scatter\": [{\"marker\": {\"colorbar\": {\"outlinewidth\": 0, \"ticks\": \"\"}}, \"type\": \"scatter\"}], \"scatter3d\": [{\"line\": {\"colorbar\": {\"outlinewidth\": 0, \"ticks\": \"\"}}, \"marker\": {\"colorbar\": {\"outlinewidth\": 0, \"ticks\": \"\"}}, \"type\": \"scatter3d\"}], \"scattercarpet\": [{\"marker\": {\"colorbar\": {\"outlinewidth\": 0, \"ticks\": \"\"}}, \"type\": \"scattercarpet\"}], \"scattergeo\": [{\"marker\": {\"colorbar\": {\"outlinewidth\": 0, \"ticks\": \"\"}}, \"type\": \"scattergeo\"}], \"scattergl\": [{\"marker\": {\"colorbar\": {\"outlinewidth\": 0, \"ticks\": \"\"}}, \"type\": \"scattergl\"}], \"scattermapbox\": [{\"marker\": {\"colorbar\": {\"outlinewidth\": 0, \"ticks\": \"\"}}, \"type\": \"scattermapbox\"}], \"scatterpolar\": [{\"marker\": {\"colorbar\": {\"outlinewidth\": 0, \"ticks\": \"\"}}, \"type\": \"scatterpolar\"}], \"scatterpolargl\": [{\"marker\": {\"colorbar\": {\"outlinewidth\": 0, \"ticks\": \"\"}}, \"type\": \"scatterpolargl\"}], \"scatterternary\": [{\"marker\": {\"colorbar\": {\"outlinewidth\": 0, \"ticks\": \"\"}}, \"type\": \"scatterternary\"}], \"surface\": [{\"colorbar\": {\"outlinewidth\": 0, \"ticks\": \"\"}, \"colorscale\": [[0.0, \"#0d0887\"], [0.1111111111111111, \"#46039f\"], [0.2222222222222222, \"#7201a8\"], [0.3333333333333333, \"#9c179e\"], [0.4444444444444444, \"#bd3786\"], [0.5555555555555556, \"#d8576b\"], [0.6666666666666666, \"#ed7953\"], [0.7777777777777778, \"#fb9f3a\"], [0.8888888888888888, \"#fdca26\"], [1.0, \"#f0f921\"]], \"type\": \"surface\"}], \"table\": [{\"cells\": {\"fill\": {\"color\": \"#EBF0F8\"}, \"line\": {\"color\": \"white\"}}, \"header\": {\"fill\": {\"color\": \"#C8D4E3\"}, \"line\": {\"color\": \"white\"}}, \"type\": \"table\"}]}, \"layout\": {\"annotationdefaults\": {\"arrowcolor\": \"#2a3f5f\", \"arrowhead\": 0, \"arrowwidth\": 1}, \"autotypenumbers\": \"strict\", \"coloraxis\": {\"colorbar\": {\"outlinewidth\": 0, \"ticks\": \"\"}}, \"colorscale\": {\"diverging\": [[0, \"#8e0152\"], [0.1, \"#c51b7d\"], [0.2, \"#de77ae\"], [0.3, \"#f1b6da\"], [0.4, \"#fde0ef\"], [0.5, \"#f7f7f7\"], [0.6, \"#e6f5d0\"], [0.7, \"#b8e186\"], [0.8, \"#7fbc41\"], [0.9, \"#4d9221\"], [1, \"#276419\"]], \"sequential\": [[0.0, \"#0d0887\"], [0.1111111111111111, \"#46039f\"], [0.2222222222222222, \"#7201a8\"], [0.3333333333333333, \"#9c179e\"], [0.4444444444444444, \"#bd3786\"], [0.5555555555555556, \"#d8576b\"], [0.6666666666666666, \"#ed7953\"], [0.7777777777777778, \"#fb9f3a\"], [0.8888888888888888, \"#fdca26\"], [1.0, \"#f0f921\"]], \"sequentialminus\": [[0.0, \"#0d0887\"], [0.1111111111111111, \"#46039f\"], [0.2222222222222222, \"#7201a8\"], [0.3333333333333333, \"#9c179e\"], [0.4444444444444444, \"#bd3786\"], [0.5555555555555556, \"#d8576b\"], [0.6666666666666666, \"#ed7953\"], [0.7777777777777778, \"#fb9f3a\"], [0.8888888888888888, \"#fdca26\"], [1.0, \"#f0f921\"]]}, \"colorway\": [\"#636efa\", \"#EF553B\", \"#00cc96\", \"#ab63fa\", \"#FFA15A\", \"#19d3f3\", \"#FF6692\", \"#B6E880\", \"#FF97FF\", \"#FECB52\"], \"font\": {\"color\": \"#2a3f5f\"}, \"geo\": {\"bgcolor\": \"white\", \"lakecolor\": \"white\", \"landcolor\": \"#E5ECF6\", \"showlakes\": true, \"showland\": true, \"subunitcolor\": \"white\"}, \"hoverlabel\": {\"align\": \"left\"}, \"hovermode\": \"closest\", \"mapbox\": {\"style\": \"light\"}, \"paper_bgcolor\": \"white\", \"plot_bgcolor\": \"#E5ECF6\", \"polar\": {\"angularaxis\": {\"gridcolor\": \"white\", \"linecolor\": \"white\", \"ticks\": \"\"}, \"bgcolor\": \"#E5ECF6\", \"radialaxis\": {\"gridcolor\": \"white\", \"linecolor\": \"white\", \"ticks\": \"\"}}, \"scene\": {\"xaxis\": {\"backgroundcolor\": \"#E5ECF6\", \"gridcolor\": \"white\", \"gridwidth\": 2, \"linecolor\": \"white\", \"showbackground\": true, \"ticks\": \"\", \"zerolinecolor\": \"white\"}, \"yaxis\": {\"backgroundcolor\": \"#E5ECF6\", \"gridcolor\": \"white\", \"gridwidth\": 2, \"linecolor\": \"white\", \"showbackground\": true, \"ticks\": \"\", \"zerolinecolor\": \"white\"}, \"zaxis\": {\"backgroundcolor\": \"#E5ECF6\", \"gridcolor\": \"white\", \"gridwidth\": 2, \"linecolor\": \"white\", \"showbackground\": true, \"ticks\": \"\", \"zerolinecolor\": \"white\"}}, \"shapedefaults\": {\"line\": {\"color\": \"#2a3f5f\"}}, \"ternary\": {\"aaxis\": {\"gridcolor\": \"white\", \"linecolor\": \"white\", \"ticks\": \"\"}, \"baxis\": {\"gridcolor\": \"white\", \"linecolor\": \"white\", \"ticks\": \"\"}, \"bgcolor\": \"#E5ECF6\", \"caxis\": {\"gridcolor\": \"white\", \"linecolor\": \"white\", \"ticks\": \"\"}}, \"title\": {\"x\": 0.05}, \"xaxis\": {\"automargin\": true, \"gridcolor\": \"white\", \"linecolor\": \"white\", \"ticks\": \"\", \"title\": {\"standoff\": 15}, \"zerolinecolor\": \"white\", \"zerolinewidth\": 2}, \"yaxis\": {\"automargin\": true, \"gridcolor\": \"white\", \"linecolor\": \"white\", \"ticks\": \"\", \"title\": {\"standoff\": 15}, \"zerolinecolor\": \"white\", \"zerolinewidth\": 2}}}, \"title\": {\"text\": \"Total Cases of Covid19 in the World\"}},                        {\"responsive\": true}                    ).then(function(){\n",
       "                            \n",
       "var gd = document.getElementById('eff76d27-41ae-4b79-9d87-66b956525da8');\n",
       "var x = new MutationObserver(function (mutations, observer) {{\n",
       "        var display = window.getComputedStyle(gd).display;\n",
       "        if (!display || display === 'none') {{\n",
       "            console.log([gd, 'removed!']);\n",
       "            Plotly.purge(gd);\n",
       "            observer.disconnect();\n",
       "        }}\n",
       "}});\n",
       "\n",
       "// Listen for the removal of the full notebook cells\n",
       "var notebookContainer = gd.closest('#notebook-container');\n",
       "if (notebookContainer) {{\n",
       "    x.observe(notebookContainer, {childList: true});\n",
       "}}\n",
       "\n",
       "// Listen for the clearing of the current output cell\n",
       "var outputEl = gd.closest('.output');\n",
       "if (outputEl) {{\n",
       "    x.observe(outputEl, {childList: true});\n",
       "}}\n",
       "\n",
       "                        })                };                });            </script>        </div>"
      ]
     },
     "metadata": {},
     "output_type": "display_data"
    }
   ],
   "source": [
    "#MAP VISUALIZATION OF TOTAL NUMBER OF COVID19 CASES ALL OVER THE WORLD\n",
    "map = px.choropleth(df_a, locations=\"iso_code\", color=\"total_cases\", hover_name='location', color_continuous_scale=[\"#28B463\",\"#F7DC6F\",\"#CB4335\"],title=\"Total Cases of Covid19 in the World\")\n",
    "\n",
    "map.show()"
   ]
  },
  {
   "cell_type": "code",
   "execution_count": 17,
   "metadata": {},
   "outputs": [
    {
     "data": {
      "image/png": "[encoded data removed]",
      "text/plain": [
       "<Figure size 1080x504 with 1 Axes>"
      ]
     },
     "metadata": {
      "needs_background": "light"
     },
     "output_type": "display_data"
    }
   ],
   "source": [
    "#BARGRAPH OF TOP 8 COUNTRIES WITH MAXIMUM NEW CASES\n",
    "max_new_cases=df_a.sort_values(\"new_cases\", ascending=False)\n",
    "fig=plt.figure(figsize=(15,7))\n",
    "plt.bar(max_new_cases[\"location\"][:8],max_new_cases[\"new_cases\"][:8],color=\"#34495E\")\n",
    "plt.xlabel(\"Countries\")\n",
    "plt.ylabel(\"New Cases\")\n",
    "plt.title(\"Top 8 Countries With Maximum New Cases\",fontsize=20)\n",
    "plt.show()"
   ]
  },
  {
   "cell_type": "code",
   "execution_count": 18,
   "metadata": {},
   "outputs": [
    {
     "data": {
      "image/png": "[encoded data removed]",
      "text/plain": [
       "<Figure size 1080x504 with 1 Axes>"
      ]
     },
     "metadata": {
      "needs_background": "light"
     },
     "output_type": "display_data"
    }
   ],
   "source": [
    "#BARGRAPH OF TOP 8 COUNTRIES HAVING MAXIMUM NEW DEATHS\n",
    "max_new_deaths=df_a.sort_values(\"new_deaths\",ascending=False)\n",
    "fig=plt.figure(figsize=(15,7))\n",
    "plt.bar(max_new_deaths[\"location\"][:8],max_new_deaths[\"new_deaths\"][:8],color=\"#717D7E\")\n",
    "plt.xlabel(\"Countries\")\n",
    "plt.ylabel(\"New Deaths\")\n",
    "plt.title(\"Top 8 Countries With Maximum New Deaths\",fontsize=20)\n",
    "plt.show()"
   ]
  },
  {
   "cell_type": "code",
   "execution_count": 21,
   "metadata": {},
   "outputs": [
    {
     "name": "stdout",
     "output_type": "stream",
     "text": [
      "      iso_code      continent         location        date  total_cases  \\\n",
      "70052      SLE         Africa     Sierra Leone  2020-11-15       2391.0   \n",
      "56554      NIC  North America        Nicaragua  2020-11-15       5661.0   \n",
      "71636      SLB        Oceania  Solomon Islands  2020-11-15         16.0   \n",
      "72058      SOM         Africa          Somalia  2020-11-15       4301.0   \n",
      "11908      BRN           Asia           Brunei  2020-11-15        148.0   \n",
      "11038      BWA         Africa         Botswana  2020-11-15       8225.0   \n",
      "56135      NZL        Oceania      New Zealand  2020-11-15       2001.0   \n",
      "73842      SSD         Africa      South Sudan  2020-11-15       3003.0   \n",
      "9770       BTN           Asia           Bhutan  2020-11-15        375.0   \n",
      "69645      SYC         Africa       Seychelles  2020-11-15        160.0   \n",
      "\n",
      "       new_cases  new_cases_smoothed  total_deaths  new_deaths  \\\n",
      "70052        0.0               1.429          74.0         0.0   \n",
      "56554        0.0              10.000         158.0         0.0   \n",
      "71636        0.0               0.429           NaN         NaN   \n",
      "72058        0.0              10.286         107.0         0.0   \n",
      "11908        0.0               0.000           3.0         0.0   \n",
      "11038        0.0              55.714          27.0         0.0   \n",
      "56135        0.0               2.143          25.0         0.0   \n",
      "73842        0.0               8.571          59.0         0.0   \n",
      "9770         0.0               2.286           NaN         NaN   \n",
      "69645        0.0               0.286           NaN         NaN   \n",
      "\n",
      "       new_deaths_smoothed  ...  gdp_per_capita  extreme_poverty  \\\n",
      "70052                0.000  ...        1390.300             52.2   \n",
      "56554                0.143  ...        5321.444              3.2   \n",
      "71636                0.000  ...        2205.923             25.1   \n",
      "72058                0.000  ...             NaN              NaN   \n",
      "11908                0.000  ...       71809.251              NaN   \n",
      "11038                0.000  ...       15807.374              NaN   \n",
      "56135                0.000  ...       36085.843              NaN   \n",
      "73842                0.000  ...        1569.888              NaN   \n",
      "9770                 0.000  ...        8708.597              1.5   \n",
      "69645                0.000  ...       26382.287              1.1   \n",
      "\n",
      "       cardiovasc_death_rate  diabetes_prevalence  female_smokers  \\\n",
      "70052                325.721                 2.42             8.8   \n",
      "56554                137.016                11.47             NaN   \n",
      "71636                459.780                18.68             NaN   \n",
      "72058                365.769                 6.05             NaN   \n",
      "11908                201.285                12.79             2.0   \n",
      "11038                237.372                 4.81             5.7   \n",
      "56135                128.797                 8.08            14.8   \n",
      "73842                280.775                10.43             NaN   \n",
      "9770                 217.066                 9.75             NaN   \n",
      "69645                242.648                10.55             7.1   \n",
      "\n",
      "       male_smokers  handwashing_facilities  hospital_beds_per_thousand  \\\n",
      "70052          41.3                  19.275                         NaN   \n",
      "56554           NaN                     NaN                        0.90   \n",
      "71636           NaN                  35.890                        1.40   \n",
      "72058           NaN                   9.831                        0.90   \n",
      "11908          30.9                     NaN                        2.70   \n",
      "11038          34.4                     NaN                        1.80   \n",
      "56135          17.2                     NaN                        2.61   \n",
      "73842           NaN                     NaN                         NaN   \n",
      "9770            NaN                  79.807                        1.70   \n",
      "69645          35.7                     NaN                        3.60   \n",
      "\n",
      "       life_expectancy  human_development_index  \n",
      "70052            54.70                    0.452  \n",
      "56554            74.48                    0.660  \n",
      "71636            73.00                    0.567  \n",
      "72058            57.40                      NaN  \n",
      "11908            75.86                    0.838  \n",
      "11038            69.59                    0.735  \n",
      "56135            82.29                    0.931  \n",
      "73842            57.85                    0.433  \n",
      "9770             71.78                    0.654  \n",
      "69645            73.40                    0.796  \n",
      "\n",
      "[10 rows x 59 columns]\n",
      "      iso_code      continent                          location        date  \\\n",
      "43491      LAO           Asia                              Laos  2020-11-15   \n",
      "49807      MHL        Oceania                  Marshall Islands  2020-11-15   \n",
      "52555      MNG           Asia                          Mongolia  2020-11-15   \n",
      "66041      KNA  North America             Saint Kitts and Nevis  2020-11-15   \n",
      "66889      VCT  North America  Saint Vincent and the Grenadines  2020-11-15   \n",
      "69645      SYC         Africa                        Seychelles  2020-11-15   \n",
      "71636      SLB        Oceania                   Solomon Islands  2020-11-15   \n",
      "79144      TLS           Asia                             Timor  2020-11-15   \n",
      "84263      VUT        Oceania                           Vanuatu  2020-11-15   \n",
      "84695      VAT         Europe                           Vatican  2020-11-15   \n",
      "\n",
      "       total_cases  new_cases  new_cases_smoothed  total_deaths  new_deaths  \\\n",
      "43491         24.0        0.0               0.000           NaN         NaN   \n",
      "49807          1.0        0.0               0.000           NaN         NaN   \n",
      "52555        431.0        3.0               9.857           NaN         NaN   \n",
      "66041         19.0        0.0               0.000           NaN         NaN   \n",
      "66889         78.0        0.0               0.286           NaN         NaN   \n",
      "69645        160.0        0.0               0.286           NaN         NaN   \n",
      "71636         16.0        0.0               0.429           NaN         NaN   \n",
      "79144         30.0        0.0               0.000           NaN         NaN   \n",
      "84263          1.0        0.0               0.143           NaN         NaN   \n",
      "84695         27.0        0.0               0.000           NaN         NaN   \n",
      "\n",
      "       new_deaths_smoothed  ...  gdp_per_capita  extreme_poverty  \\\n",
      "43491                  0.0  ...        6397.360             22.7   \n",
      "49807                  0.0  ...        3819.202              NaN   \n",
      "52555                  0.0  ...       11840.846              0.5   \n",
      "66041                  0.0  ...       24654.385              NaN   \n",
      "66889                  0.0  ...       10727.146              NaN   \n",
      "69645                  0.0  ...       26382.287              1.1   \n",
      "71636                  0.0  ...        2205.923             25.1   \n",
      "79144                  0.0  ...        6570.102             30.3   \n",
      "84263                  0.0  ...        2921.909             13.2   \n",
      "84695                  0.0  ...             NaN              NaN   \n",
      "\n",
      "       cardiovasc_death_rate  diabetes_prevalence  female_smokers  \\\n",
      "43491                368.111                 4.00             7.3   \n",
      "49807                557.793                30.53             NaN   \n",
      "52555                460.043                 4.82             5.5   \n",
      "66041                    NaN                12.84             NaN   \n",
      "66889                252.675                11.62             NaN   \n",
      "69645                242.648                10.55             7.1   \n",
      "71636                459.780                18.68             NaN   \n",
      "79144                335.346                 6.86             6.3   \n",
      "84263                546.300                12.02             2.8   \n",
      "84695                    NaN                  NaN             NaN   \n",
      "\n",
      "       male_smokers  handwashing_facilities  hospital_beds_per_thousand  \\\n",
      "43491          51.2                  49.839                         1.5   \n",
      "49807           NaN                  82.502                         2.7   \n",
      "52555          46.5                  71.180                         7.0   \n",
      "66041           NaN                     NaN                         2.3   \n",
      "66889           NaN                     NaN                         2.6   \n",
      "69645          35.7                     NaN                         3.6   \n",
      "71636           NaN                  35.890                         1.4   \n",
      "79144          78.1                  28.178                         5.9   \n",
      "84263          34.5                  25.209                         NaN   \n",
      "84695           NaN                     NaN                         NaN   \n",
      "\n",
      "       life_expectancy  human_development_index  \n",
      "43491            67.92                    0.613  \n",
      "49807            73.70                    0.704  \n",
      "52555            69.87                    0.737  \n",
      "66041            76.23                    0.779  \n",
      "66889            72.53                    0.738  \n",
      "69645            73.40                    0.796  \n",
      "71636            73.00                    0.567  \n",
      "79144            69.50                    0.606  \n",
      "84263            70.47                    0.609  \n",
      "84695            75.12                      NaN  \n",
      "\n",
      "[10 rows x 59 columns]\n"
     ]
    }
   ],
   "source": [
    "#COUNTRIES WITH LEAST NUMBER OF NEW CASES AND DEATHS\n",
    "print(max_new_cases.tail(10))\n",
    "print(max_new_deaths.tail(10))"
   ]
  },
  {
   "cell_type": "markdown",
   "metadata": {},
   "source": [
    "**Asian Countries**"
   ]
  },
  {
   "cell_type": "code",
   "execution_count": 22,
   "metadata": {},
   "outputs": [
    {
     "name": "stdout",
     "output_type": "stream",
     "text": [
      "     iso_code continent     location        date  total_cases  new_cases  \\\n",
      "265       AFG      Asia  Afghanistan  2020-11-15      43240.0      205.0   \n",
      "3894      ARM      Asia      Armenia  2020-11-15     117337.0     1482.0   \n",
      "5765      AZE      Asia   Azerbaijan  2020-11-15      75688.0     2259.0   \n",
      "6630      BHR      Asia      Bahrain  2020-11-15      84703.0      180.0   \n",
      "7065      BGD      Asia   Bangladesh  2020-11-15     432333.0     1837.0   \n",
      "\n",
      "      new_cases_smoothed  total_deaths  new_deaths  new_deaths_smoothed  ...  \\\n",
      "265              154.429        1620.0        12.0                7.857  ...   \n",
      "3894            1559.000        1763.0        25.0               29.143  ...   \n",
      "5765            1468.143         967.0        21.0               18.143  ...   \n",
      "6630             178.143         334.0         1.0                0.714  ...   \n",
      "7065            1727.857        6194.0        21.0               18.143  ...   \n",
      "\n",
      "      gdp_per_capita  extreme_poverty  cardiovasc_death_rate  \\\n",
      "265         1803.987              NaN                597.029   \n",
      "3894        8787.580              1.8                341.010   \n",
      "5765       15847.419              NaN                559.812   \n",
      "6630       43290.705              NaN                151.689   \n",
      "7065        3523.984             14.8                298.003   \n",
      "\n",
      "      diabetes_prevalence  female_smokers  male_smokers  \\\n",
      "265                  9.59             NaN           NaN   \n",
      "3894                 7.11             1.5          52.1   \n",
      "5765                 7.11             0.3          42.5   \n",
      "6630                16.52             5.8          37.6   \n",
      "7065                 8.38             1.0          44.7   \n",
      "\n",
      "      handwashing_facilities  hospital_beds_per_thousand  life_expectancy  \\\n",
      "265                   37.746                         0.5            64.83   \n",
      "3894                  94.043                         4.2            75.09   \n",
      "5765                  83.241                         4.7            73.00   \n",
      "6630                     NaN                         2.0            77.29   \n",
      "7065                  34.808                         0.8            72.59   \n",
      "\n",
      "      human_development_index  \n",
      "265                     0.511  \n",
      "3894                    0.776  \n",
      "5765                    0.756  \n",
      "6630                    0.852  \n",
      "7065                    0.632  \n",
      "\n",
      "[5 rows x 59 columns]\n"
     ]
    }
   ],
   "source": [
    "#FILTERIING ROWS OF THE DATASET\n",
    "asia_data=df_a[df_a[\"continent\"]==\"Asia\"]\n",
    "asia_data=asia_data[~asia_data.isin([\"World\",\"International\"])]\n",
    "print(asia_data.head())"
   ]
  },
  {
   "cell_type": "code",
   "execution_count": 27,
   "metadata": {},
   "outputs": [
    {
     "data": {
      "image/png": "[encoded data removed]",
      "text/plain": [
       "<Figure size 1440x504 with 1 Axes>"
      ]
     },
     "metadata": {
      "needs_background": "light"
     },
     "output_type": "display_data"
    }
   ],
   "source": [
    "#Bargraph of Asian countries with maximum Covid19 cases\n",
    "asia_max_cases=asia_data.sort_values(\"total_cases\",ascending=False)\n",
    "fig=plt.figure(figsize=(20,7))\n",
    "plt.bar(asia_max_cases[\"location\"][:10],asia_max_cases[\"total_cases\"][:10],color=[\"#e74c3c\",\"#196f3d\",\"#0099ff\",\"#34495e\",\"#99ff33\",\"#9900ff\",\"#ff3399\",\"#cc99ff\",\"#ff9933\",\"#669999\"])\n",
    "plt.xlabel(\"Countries\")\n",
    "plt.ylabel(\"Total Covid19 Cases\")\n",
    "plt.title(\"Asian Countries with Maximum Covid19 Cases\",fontsize=20)\n",
    "plt.show()"
   ]
  },
  {
   "cell_type": "code",
   "execution_count": 28,
   "metadata": {},
   "outputs": [
    {
     "data": {
      "image/png": "[encoded data removed]",
      "text/plain": [
       "<Figure size 1440x504 with 1 Axes>"
      ]
     },
     "metadata": {
      "needs_background": "light"
     },
     "output_type": "display_data"
    }
   ],
   "source": [
    "#Bargraph of Asian countries with Least number of covid cases\n",
    "asia_least_cases=asia_data.sort_values(\"total_cases\",ascending=True)\n",
    "fig=plt.figure(figsize=(20,7))\n",
    "plt.bar(asia_least_cases[\"location\"][:10],asia_least_cases[\"total_cases\"][:10],color=[\"#ff9900\",\"#ffff00\",\"#0099ff\",\"#ff0000\",\"#99ff33\",\"#9900ff\",\"#ff3399\",\"#cc99ff\",\"#ff9933\",\"#669999\"])\n",
    "plt.xlabel(\"Countries\")\n",
    "plt.ylabel(\"Total Covid19 Cases\")\n",
    "plt.title(\"Asian Countries with Least Covid19 Cases\",fontsize=20)\n",
    "plt.show()"
   ]
  },
  {
   "cell_type": "code",
   "execution_count": 29,
   "metadata": {},
   "outputs": [
    {
     "data": {
      "text/html": [
       "<div>\n",
       "<style scoped>\n",
       "    .dataframe tbody tr th:only-of-type {\n",
       "        vertical-align: middle;\n",
       "    }\n",
       "\n",
       "    .dataframe tbody tr th {\n",
       "        vertical-align: top;\n",
       "    }\n",
       "\n",
       "    .dataframe thead th {\n",
       "        text-align: right;\n",
       "    }\n",
       "</style>\n",
       "<table border=\"1\" class=\"dataframe\">\n",
       "  <thead>\n",
       "    <tr style=\"text-align: right;\">\n",
       "      <th></th>\n",
       "      <th>date</th>\n",
       "      <th>total_cases</th>\n",
       "      <th>new_cases</th>\n",
       "      <th>total_deaths</th>\n",
       "      <th>new_tests</th>\n",
       "      <th>total_tests</th>\n",
       "      <th>location</th>\n",
       "      <th>new_deaths_per_million</th>\n",
       "      <th>total_tests_per_thousand</th>\n",
       "      <th>new_tests_per_thousand</th>\n",
       "      <th>positive_rate</th>\n",
       "      <th>new_deaths</th>\n",
       "    </tr>\n",
       "  </thead>\n",
       "  <tbody>\n",
       "    <tr>\n",
       "      <th>265</th>\n",
       "      <td>2020-11-15</td>\n",
       "      <td>43240.0</td>\n",
       "      <td>205.0</td>\n",
       "      <td>1620.0</td>\n",
       "      <td>NaN</td>\n",
       "      <td>NaN</td>\n",
       "      <td>Afghanistan</td>\n",
       "      <td>0.308</td>\n",
       "      <td>NaN</td>\n",
       "      <td>NaN</td>\n",
       "      <td>NaN</td>\n",
       "      <td>12.0</td>\n",
       "    </tr>\n",
       "    <tr>\n",
       "      <th>3894</th>\n",
       "      <td>2020-11-15</td>\n",
       "      <td>117337.0</td>\n",
       "      <td>1482.0</td>\n",
       "      <td>1763.0</td>\n",
       "      <td>NaN</td>\n",
       "      <td>NaN</td>\n",
       "      <td>Armenia</td>\n",
       "      <td>8.437</td>\n",
       "      <td>NaN</td>\n",
       "      <td>NaN</td>\n",
       "      <td>0.428</td>\n",
       "      <td>25.0</td>\n",
       "    </tr>\n",
       "    <tr>\n",
       "      <th>5765</th>\n",
       "      <td>2020-11-15</td>\n",
       "      <td>75688.0</td>\n",
       "      <td>2259.0</td>\n",
       "      <td>967.0</td>\n",
       "      <td>NaN</td>\n",
       "      <td>NaN</td>\n",
       "      <td>Azerbaijan</td>\n",
       "      <td>2.071</td>\n",
       "      <td>NaN</td>\n",
       "      <td>NaN</td>\n",
       "      <td>NaN</td>\n",
       "      <td>21.0</td>\n",
       "    </tr>\n",
       "    <tr>\n",
       "      <th>6630</th>\n",
       "      <td>2020-11-15</td>\n",
       "      <td>84703.0</td>\n",
       "      <td>180.0</td>\n",
       "      <td>334.0</td>\n",
       "      <td>8805.0</td>\n",
       "      <td>1894421.0</td>\n",
       "      <td>Bahrain</td>\n",
       "      <td>0.588</td>\n",
       "      <td>1113.329</td>\n",
       "      <td>5.175</td>\n",
       "      <td>0.018</td>\n",
       "      <td>1.0</td>\n",
       "    </tr>\n",
       "    <tr>\n",
       "      <th>7065</th>\n",
       "      <td>2020-11-15</td>\n",
       "      <td>432333.0</td>\n",
       "      <td>1837.0</td>\n",
       "      <td>6194.0</td>\n",
       "      <td>14060.0</td>\n",
       "      <td>2539021.0</td>\n",
       "      <td>Bangladesh</td>\n",
       "      <td>0.128</td>\n",
       "      <td>15.417</td>\n",
       "      <td>0.085</td>\n",
       "      <td>0.123</td>\n",
       "      <td>21.0</td>\n",
       "    </tr>\n",
       "  </tbody>\n",
       "</table>\n",
       "</div>"
      ],
      "text/plain": [
       "            date  total_cases  new_cases  total_deaths  new_tests  \\\n",
       "265   2020-11-15      43240.0      205.0        1620.0        NaN   \n",
       "3894  2020-11-15     117337.0     1482.0        1763.0        NaN   \n",
       "5765  2020-11-15      75688.0     2259.0         967.0        NaN   \n",
       "6630  2020-11-15      84703.0      180.0         334.0     8805.0   \n",
       "7065  2020-11-15     432333.0     1837.0        6194.0    14060.0   \n",
       "\n",
       "      total_tests     location  new_deaths_per_million  \\\n",
       "265           NaN  Afghanistan                   0.308   \n",
       "3894          NaN      Armenia                   8.437   \n",
       "5765          NaN   Azerbaijan                   2.071   \n",
       "6630    1894421.0      Bahrain                   0.588   \n",
       "7065    2539021.0   Bangladesh                   0.128   \n",
       "\n",
       "      total_tests_per_thousand  new_tests_per_thousand  positive_rate  \\\n",
       "265                        NaN                     NaN            NaN   \n",
       "3894                       NaN                     NaN          0.428   \n",
       "5765                       NaN                     NaN            NaN   \n",
       "6630                  1113.329                   5.175          0.018   \n",
       "7065                    15.417                   0.085          0.123   \n",
       "\n",
       "      new_deaths  \n",
       "265         12.0  \n",
       "3894        25.0  \n",
       "5765        21.0  \n",
       "6630         1.0  \n",
       "7065        21.0  "
      ]
     },
     "execution_count": 29,
     "metadata": {},
     "output_type": "execute_result"
    }
   ],
   "source": [
    "#Filtering columns of dataset\n",
    "df_asia=asia_data[[\"date\",\"total_cases\",\"new_cases\",\"total_deaths\",\"new_tests\",\"total_tests\",\n",
    "                  \"location\",'new_deaths_per_million','total_tests_per_thousand','new_tests_per_thousand',\n",
    "                  'positive_rate','new_deaths']]\n",
    "df_asia.head()"
   ]
  },
  {
   "cell_type": "code",
   "execution_count": 34,
   "metadata": {},
   "outputs": [
    {
     "data": {
      "text/plain": [
       "<AxesSubplot:>"
      ]
     },
     "execution_count": 34,
     "metadata": {},
     "output_type": "execute_result"
    },
    {
     "data": {
      "image/png": "[encoded data removed]",
      "text/plain": [
       "<Figure size 1080x720 with 2 Axes>"
      ]
     },
     "metadata": {
      "needs_background": "light"
     },
     "output_type": "display_data"
    }
   ],
   "source": [
    "# Correlation Heatmap\n",
    "fig=plt.figure(figsize=(15,10))\n",
    "\n",
    "sns.heatmap(df_asia.corr(),cmap=\"Blues\",annot=True)"
   ]
  },
  {
   "cell_type": "code",
   "execution_count": 37,
   "metadata": {},
   "outputs": [
    {
     "data": {
      "text/plain": [
       "Text(0.5, 1.0, 'Total Cases vs Total Deaths')"
      ]
     },
     "execution_count": 37,
     "metadata": {},
     "output_type": "execute_result"
    },
    {
     "data": {
      "image/png": "[encoded data removed]",
      "text/plain": [
       "<Figure size 1440x576 with 1 Axes>"
      ]
     },
     "metadata": {
      "needs_background": "light"
     },
     "output_type": "display_data"
    }
   ],
   "source": [
    "#Lineplot of Total Cases vs Total Deaths\n",
    "plt.figure(figsize=(20,8))\n",
    "sns.lineplot(x='total_cases',y='total_deaths',data=df_asia,color=\"#E74C3C\")\n",
    "plt.title(\"Total Cases vs Total Deaths\",fontsize=20)"
   ]
  },
  {
   "cell_type": "markdown",
   "metadata": {},
   "source": [
    "From the above graph it can be concluded that, as the total number of cases increased, Descent increase was noticed in number of deaths due to Covid19"
   ]
  },
  {
   "cell_type": "code",
   "execution_count": 38,
   "metadata": {},
   "outputs": [
    {
     "data": {
      "text/plain": [
       "Text(0.5, 1.0, 'Total Tests vs Positive Rate')"
      ]
     },
     "execution_count": 38,
     "metadata": {},
     "output_type": "execute_result"
    },
    {
     "data": {
      "image/png": "[encoded data removed]",
      "text/plain": [
       "<Figure size 1440x576 with 1 Axes>"
      ]
     },
     "metadata": {
      "needs_background": "light"
     },
     "output_type": "display_data"
    }
   ],
   "source": [
    "#Lineplot of Total number of tests and Positive rate\n",
    "plt.figure(figsize=(20,8))\n",
    "sns.lineplot(x='total_tests',y='positive_rate',data=df_asia,color=\"#009933\")\n",
    "plt.title(\"Total Tests vs Positive Rate\",fontsize=20)"
   ]
  },
  {
   "cell_type": "markdown",
   "metadata": {},
   "source": [
    "From the above graph, it is observed that as the number of testing increase, there is gradual increase in covid19 positive patients."
   ]
  },
  {
   "cell_type": "markdown",
   "metadata": {},
   "source": [
    "**VACCINATION ALL OVER WORLD**"
   ]
  },
  {
   "cell_type": "code",
   "execution_count": 41,
   "metadata": {},
   "outputs": [
    {
     "data": {
      "image/png": "[encoded data removed]",
      "text/plain": [
       "<Figure size 1800x720 with 2 Axes>"
      ]
     },
     "metadata": {
      "needs_background": "light"
     },
     "output_type": "display_data"
    }
   ],
   "source": [
    "\n",
    "#Subplot of countries with maximum vaccinated people and least number of vaccinated people\n",
    "vaccination_data=df[df[\"date\"]==\"2021-03-10\"]\n",
    "vaccination_data=vaccination_data[~vaccination_data[\"location\"].isin([\"World\",\"International\"])]\n",
    "max_vaccinated=vaccination_data.sort_values(\"total_vaccinations\",ascending= False)\n",
    "least_vaccinated=vaccination_data.sort_values(\"total_vaccinations\",ascending= True)\n",
    "fig=plt.figure(figsize=(25,10))\n",
    "plt.subplot(1,2,1)\n",
    "plt.barh(max_vaccinated[\"location\"][:10],max_vaccinated[\"total_vaccinations\"][:10],color=\"#0E6655\")\n",
    "plt.title(\"Top 10 Countries with Maximum Number of Vaccinated People\",fontsize=20)\n",
    "plt.xlabel(\"Vaccinations\",fontsize=15)\n",
    "plt.ylabel(\"Countries\",fontsize=15)\n",
    "plt.subplot(1,2,2)\n",
    "plt.barh(least_vaccinated[\"location\"][:10],least_vaccinated[\"total_vaccinations\"][:10],color=\"#2471A3\")\n",
    "plt.title(\"10 Countries with Least Number of Vaccinated People\", fontsize=20)\n",
    "plt.xlabel(\"Vaccinations\",fontsize=15)\n",
    "plt.ylabel(\"Countries\",fontsize=15)\n",
    "\n",
    "plt.show()"
   ]
  },
  {
   "cell_type": "markdown",
   "metadata": {},
   "source": [
    "From graph 1, we can infer that United States is having the Maximum number of Vaccinated population followed by other nine countries. And From graph 2, it is observed that Belize is having least number of vaccinated population followed by other countries."
   ]
  },
  {
   "cell_type": "code",
   "execution_count": null,
   "metadata": {},
   "outputs": [],
   "source": []
  }
 ],
 "metadata": {
  "kernelspec": {
   "display_name": "Python 3",
   "language": "python",
   "name": "python3"
  },
  "language_info": {
   "codemirror_mode": {
    "name": "ipython",
    "version": 3
   },
   "file_extension": ".py",
   "mimetype": "text/x-python",
   "name": "python",
   "nbconvert_exporter": "python",
   "pygments_lexer": "ipython3",
   "version": "3.8.5"
  }
 },
 "nbformat": 4,
 "nbformat_minor": 4
}
